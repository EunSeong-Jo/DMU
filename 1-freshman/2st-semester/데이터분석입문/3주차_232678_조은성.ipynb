{
 "cells": [
  {
   "cell_type": "markdown",
   "metadata": {},
   "source": [
    "### 1교시"
   ]
  },
  {
   "cell_type": "code",
   "execution_count": 1,
   "metadata": {},
   "outputs": [
    {
     "name": "stdout",
     "output_type": "stream",
     "text": [
      "<_csv.reader object at 0x000002055243AC80>\n"
     ]
    }
   ],
   "source": [
    "import csv\n",
    "\n",
    "f = open('./seoul_monthly_temperature_data.csv', 'r', encoding='cp949')\n",
    "# f = open('./seoul_yearly_temperature_data.csv')\n",
    "data = csv.reader(f)\n",
    "\n",
    "print(data)\n",
    "f.close()"
   ]
  },
  {
   "cell_type": "code",
   "execution_count": 2,
   "metadata": {},
   "outputs": [
    {
     "name": "stdout",
     "output_type": "stream",
     "text": [
      "['날짜', '지점', '평균기온(℃)', '최저기온(℃)', '최고기온(℃)']\n",
      "['\\t2024-08-20', '108', '31.4', '27', '35.4']\n",
      "['\\t2024-08-21', '108', '28.4', '26.9', '30.8']\n",
      "['\\t2024-08-22', '108', '28.6', '27.1', '30.3']\n",
      "['\\t2024-08-23', '108', '28.4', '26.4', '31.8']\n",
      "['\\t2024-08-24', '108', '27.6', '25.1', '30.9']\n",
      "['\\t2024-08-25', '108', '28.5', '24.9', '32.7']\n",
      "['\\t2024-08-26', '108', '28.1', '25.6', '30.6']\n",
      "['\\t2024-08-27', '108', '26.5', '24.6', '30.3']\n",
      "['\\t2024-08-28', '108', '28.2', '23', '33.2']\n",
      "['\\t2024-08-29', '108', '28.4', '23.4', '33.5']\n",
      "['\\t2024-08-30', '108', '28', '23.7', '32.9']\n",
      "['\\t2024-08-31', '108', '27.6', '22.6', '33']\n",
      "['\\t2024-09-01', '108', '27.1', '24.6', '31.6']\n",
      "['\\t2024-09-02', '108', '24.5', '22.2', '26.9']\n",
      "['\\t2024-09-03', '108', '27', '23.2', '32']\n",
      "['\\t2024-09-04', '108', '27.9', '23.2', '33.3']\n",
      "['\\t2024-09-05', '108', '26.3', '25.6', '28.8']\n",
      "['\\t2024-09-06', '108', '24', '23.3', '25.7']\n",
      "['\\t2024-09-07', '108', '26.5', '22.8', '31.3']\n",
      "['\\t2024-09-08', '108', '27.2', '22.6', '32.8']\n",
      "['\\t2024-09-09', '108', '28.5', '24.1', '34.1']\n",
      "['\\t2024-09-10', '108', '29.4', '25.6', '33.9']\n",
      "['\\t2024-09-11', '108', '29', '25.4', '34.6']\n",
      "['\\t2024-09-12', '108', '25.4', '24.8', '27.1']\n",
      "['\\t2024-09-13', '108', '25.9', '24.2', '28']\n",
      "['\\t2024-09-14', '108', '28', '25.2', '32.2']\n",
      "['\\t2024-09-15', '108', '27.5', '24.2', '32.4']\n",
      "['\\t2024-09-16', '108', '26.8', '21.3', '32.2']\n",
      "['\\t2024-09-17', '108', '28.6', '25.8', '33.2']\n",
      "['\\t2024-09-18', '108', '29.4', '26.5', '33.6']\n",
      "['\\t', '', '', '', '']\n"
     ]
    }
   ],
   "source": [
    "f = open('./seoul_monthly_temperature_data.csv', 'r', encoding='cp949')\n",
    "data = csv.reader(f)\n",
    "\n",
    "for row in data:\n",
    "    print(row)\n",
    "\n",
    "f.close()"
   ]
  },
  {
   "cell_type": "code",
   "execution_count": 3,
   "metadata": {},
   "outputs": [
    {
     "name": "stdout",
     "output_type": "stream",
     "text": [
      "['날짜', '지점', '평균기온(℃)', '최저기온(℃)', '최고기온(℃)']\n",
      "['\\t2024-08-20', '108', '31.4', '27', '35.4']\n",
      "['\\t2024-08-21', '108', '28.4', '26.9', '30.8']\n",
      "['\\t2024-08-22', '108', '28.6', '27.1', '30.3']\n",
      "['\\t2024-08-23', '108', '28.4', '26.4', '31.8']\n",
      "['\\t2024-08-24', '108', '27.6', '25.1', '30.9']\n",
      "['\\t2024-08-25', '108', '28.5', '24.9', '32.7']\n",
      "['\\t2024-08-26', '108', '28.1', '25.6', '30.6']\n",
      "['\\t2024-08-27', '108', '26.5', '24.6', '30.3']\n",
      "['\\t2024-08-28', '108', '28.2', '23', '33.2']\n",
      "['\\t2024-08-29', '108', '28.4', '23.4', '33.5']\n",
      "['\\t2024-08-30', '108', '28', '23.7', '32.9']\n",
      "['\\t2024-08-31', '108', '27.6', '22.6', '33']\n",
      "['\\t2024-09-01', '108', '27.1', '24.6', '31.6']\n",
      "['\\t2024-09-02', '108', '24.5', '22.2', '26.9']\n",
      "['\\t2024-09-03', '108', '27', '23.2', '32']\n",
      "['\\t2024-09-04', '108', '27.9', '23.2', '33.3']\n",
      "['\\t2024-09-05', '108', '26.3', '25.6', '28.8']\n",
      "['\\t2024-09-06', '108', '24', '23.3', '25.7']\n",
      "['\\t2024-09-07', '108', '26.5', '22.8', '31.3']\n",
      "['\\t2024-09-08', '108', '27.2', '22.6', '32.8']\n",
      "['\\t2024-09-09', '108', '28.5', '24.1', '34.1']\n",
      "['\\t2024-09-10', '108', '29.4', '25.6', '33.9']\n",
      "['\\t2024-09-11', '108', '29', '25.4', '34.6']\n",
      "['\\t2024-09-12', '108', '25.4', '24.8', '27.1']\n",
      "['\\t2024-09-13', '108', '25.9', '24.2', '28']\n",
      "['\\t2024-09-14', '108', '28', '25.2', '32.2']\n",
      "['\\t2024-09-15', '108', '27.5', '24.2', '32.4']\n",
      "['\\t2024-09-16', '108', '26.8', '21.3', '32.2']\n",
      "['\\t2024-09-17', '108', '28.6', '25.8', '33.2']\n",
      "['\\t2024-09-18', '108', '29.4', '26.5', '33.6']\n",
      "['\\t', '', '', '', '']\n"
     ]
    }
   ],
   "source": [
    "with open('./seoul_monthly_temperature_data.csv', 'r', encoding='cp949') as f:\n",
    "    data = csv.reader(f)\n",
    "    \n",
    "    for row in data:\n",
    "        print(row)"
   ]
  },
  {
   "cell_type": "code",
   "execution_count": 4,
   "metadata": {},
   "outputs": [
    {
     "name": "stdout",
     "output_type": "stream",
     "text": [
      "['\\t', '', '', '', '']\n"
     ]
    }
   ],
   "source": [
    "f = open('./seoul_monthly_temperature_data.csv', 'r', encoding='cp949')\n",
    "data = csv.reader(f)\n",
    "\n",
    "for row in data:\n",
    "    if '' in row:\n",
    "        print(row)\n",
    "\n",
    "f.close()"
   ]
  },
  {
   "cell_type": "code",
   "execution_count": 5,
   "metadata": {},
   "outputs": [
    {
     "name": "stdout",
     "output_type": "stream",
     "text": [
      "['날짜', '지점', '평균기온(℃)', '최저기온(℃)', '최고기온(℃)']\n"
     ]
    }
   ],
   "source": [
    "f = open('./seoul_monthly_temperature_data.csv', 'r', encoding='cp949')\n",
    "data = csv.reader(f)\n",
    "\n",
    "header = next(data)\n",
    "print(header)\n",
    "\n",
    "f.close()"
   ]
  },
  {
   "cell_type": "code",
   "execution_count": 6,
   "metadata": {},
   "outputs": [
    {
     "name": "stdout",
     "output_type": "stream",
     "text": [
      "['날짜', '지점', '평균기온(℃)', '최저기온(℃)', '최고기온(℃)']\n",
      "['\\t2024-08-20', '108', '31.4', '27', '35.4']\n",
      "['\\t2024-08-21', '108', '28.4', '26.9', '30.8']\n",
      "['\\t2024-08-22', '108', '28.6', '27.1', '30.3']\n",
      "['\\t2024-08-23', '108', '28.4', '26.4', '31.8']\n",
      "['\\t2024-08-24', '108', '27.6', '25.1', '30.9']\n",
      "['\\t2024-08-25', '108', '28.5', '24.9', '32.7']\n",
      "['\\t2024-08-26', '108', '28.1', '25.6', '30.6']\n",
      "['\\t2024-08-27', '108', '26.5', '24.6', '30.3']\n",
      "['\\t2024-08-28', '108', '28.2', '23', '33.2']\n",
      "['\\t2024-08-29', '108', '28.4', '23.4', '33.5']\n",
      "['\\t2024-08-30', '108', '28', '23.7', '32.9']\n",
      "['\\t2024-08-31', '108', '27.6', '22.6', '33']\n",
      "['\\t2024-09-01', '108', '27.1', '24.6', '31.6']\n",
      "['\\t2024-09-02', '108', '24.5', '22.2', '26.9']\n",
      "['\\t2024-09-03', '108', '27', '23.2', '32']\n",
      "['\\t2024-09-04', '108', '27.9', '23.2', '33.3']\n",
      "['\\t2024-09-05', '108', '26.3', '25.6', '28.8']\n",
      "['\\t2024-09-06', '108', '24', '23.3', '25.7']\n",
      "['\\t2024-09-07', '108', '26.5', '22.8', '31.3']\n",
      "['\\t2024-09-08', '108', '27.2', '22.6', '32.8']\n",
      "['\\t2024-09-09', '108', '28.5', '24.1', '34.1']\n",
      "['\\t2024-09-10', '108', '29.4', '25.6', '33.9']\n",
      "['\\t2024-09-11', '108', '29', '25.4', '34.6']\n",
      "['\\t2024-09-12', '108', '25.4', '24.8', '27.1']\n",
      "['\\t2024-09-13', '108', '25.9', '24.2', '28']\n",
      "['\\t2024-09-14', '108', '28', '25.2', '32.2']\n",
      "['\\t2024-09-15', '108', '27.5', '24.2', '32.4']\n",
      "['\\t2024-09-16', '108', '26.8', '21.3', '32.2']\n",
      "['\\t2024-09-17', '108', '28.6', '25.8', '33.2']\n",
      "['\\t2024-09-18', '108', '29.4', '26.5', '33.6']\n",
      "['\\t', '', '', '', '']\n"
     ]
    }
   ],
   "source": [
    "f = open('./seoul_monthly_temperature_data.csv', 'r', encoding='cp949')\n",
    "data = csv.reader(f)\n",
    "\n",
    "header = next(data)\n",
    "print(header)\n",
    "\n",
    "for row in data:\n",
    "    print(row)\n",
    "\n",
    "f.close()"
   ]
  },
  {
   "cell_type": "code",
   "execution_count": 7,
   "metadata": {},
   "outputs": [
    {
     "name": "stdout",
     "output_type": "stream",
     "text": [
      "['날짜', '지점', '평균기온(℃)', '최저기온(℃)', '최고기온(℃)']\n",
      "['', '', '', '', -999.0]\n"
     ]
    }
   ],
   "source": [
    "f = open('./seoul_monthly_temperature_data.csv', 'r', encoding='cp949')\n",
    "data = csv.reader(f)\n",
    "\n",
    "header = next(data)\n",
    "print(header)\n",
    "\n",
    "for row in data:\n",
    "    row[0] = row[0].strip()\n",
    "\n",
    "    if row[4] == '':\n",
    "        row[4] = -999\n",
    "        row[4] = float(row[4])\n",
    "        print(row)\n",
    "\n",
    "f.close()"
   ]
  },
  {
   "cell_type": "code",
   "execution_count": 8,
   "metadata": {},
   "outputs": [
    {
     "name": "stdout",
     "output_type": "stream",
     "text": [
      "서울 최고 기온, 일자 : 2024-08-20, 기온 : 35.4\n"
     ]
    }
   ],
   "source": [
    "max_temp = -999\n",
    "max_date = ''\n",
    "\n",
    "f = open('./seoul_monthly_temperature_data.csv', 'r', encoding='cp949')\n",
    "data = csv.reader(f)\n",
    "\n",
    "header = next(data)\n",
    "\n",
    "for row in data:\n",
    "    if row[4] == '':\n",
    "        row[4] = -999\n",
    "        \n",
    "    row[4] = float(row[4])\n",
    "    \n",
    "    if max_temp < row[4]:\n",
    "        max_temp = row[4]\n",
    "        max_date = row[0].strip()\n",
    "\n",
    "f.close()\n",
    "\n",
    "print(f'서울 최고 기온, 일자 : {max_date}, 기온 : {max_temp}')"
   ]
  },
  {
   "cell_type": "code",
   "execution_count": 9,
   "metadata": {},
   "outputs": [
    {
     "name": "stdout",
     "output_type": "stream",
     "text": [
      "서울 최고 기온, 일자 : 2024-08-20, 기온 : 35.4\n"
     ]
    }
   ],
   "source": [
    "max_temp = -999\n",
    "max_date = ''\n",
    "\n",
    "with open('./seoul_monthly_temperature_data.csv', 'r', encoding='cp949') as f:\n",
    "    data = csv.reader(f)\n",
    "    header = next(data)\n",
    "\n",
    "    for row in data:\n",
    "        if row[4] == '':\n",
    "            row[4] = -999\n",
    "\n",
    "        row[4] = float(row[4])\n",
    "\n",
    "        if max_temp < row[4]:\n",
    "            max_temp = row[4]\n",
    "            max_date = row[0].strip()\n",
    "            \n",
    "print(f'서울 최고 기온, 일자 : {max_date}, 기온 : {max_temp}')"
   ]
  },
  {
   "cell_type": "code",
   "execution_count": 10,
   "metadata": {},
   "outputs": [
    {
     "name": "stdout",
     "output_type": "stream",
     "text": [
      "서울 최저 기온, 일자 : 2024-09-16, 기온 : 21.3\n"
     ]
    }
   ],
   "source": [
    "min_temp = 999\n",
    "min_date = ''\n",
    "\n",
    "with open('./seoul_monthly_temperature_data.csv', 'r', encoding='cp949') as f:\n",
    "    data = csv.reader(f)\n",
    "    header = next(data)\n",
    "\n",
    "    for row in data:\n",
    "        if row[3] == '':\n",
    "            row[3] = 999\n",
    "\n",
    "        row[3] = float(row[3])\n",
    "\n",
    "        if min_temp > row[3]:\n",
    "            min_temp = row[3]\n",
    "            min_date = row[0].strip()\n",
    "            \n",
    "print(f'서울 최저 기온, 일자 : {min_date}, 기온 : {min_temp}')"
   ]
  },
  {
   "cell_type": "code",
   "execution_count": 11,
   "metadata": {},
   "outputs": [
    {
     "name": "stdout",
     "output_type": "stream",
     "text": [
      "서울 최고 기온\n",
      "[35.4, 34.6, 34.1, 33.9, 33.6, 33.5, 33.3, 33.2, 33.2, 33.0]\n",
      "서울 최저 기온\n",
      "[21.3, 22.2, 22.6, 22.6, 22.8, 23.0, 23.2, 23.2, 23.3, 23.4]\n"
     ]
    }
   ],
   "source": [
    "max_temp = []\n",
    "min_temp = []\n",
    "\n",
    "with open('./seoul_monthly_temperature_data.csv', 'r', encoding='cp949') as f:\n",
    "    data = csv.reader(f)\n",
    "    header = next(data)\n",
    "\n",
    "    for row in data:\n",
    "        if row[3] == '':\n",
    "            row[3] = 999\n",
    "        if row[4] == '':\n",
    "            row[4] = -999\n",
    "\n",
    "        row[3] = float(row[3])\n",
    "        row[4] = float(row[4])\n",
    "\n",
    "        min_temp.append(row[3])\n",
    "        max_temp.append(row[4])\n",
    "            \n",
    "print(f'서울 최고 기온')\n",
    "max_temp.sort(reverse = True)\n",
    "print(max_temp[:10])\n",
    "\n",
    "print(f'서울 최저 기온')\n",
    "min_temp.sort(reverse = False)\n",
    "print(min_temp[:10])"
   ]
  },
  {
   "cell_type": "markdown",
   "metadata": {},
   "source": [
    "### 2교시"
   ]
  },
  {
   "cell_type": "code",
   "execution_count": 14,
   "metadata": {},
   "outputs": [
    {
     "data": {
      "text/plain": [
       "array([6, 7, 8])"
      ]
     },
     "execution_count": 14,
     "metadata": {},
     "output_type": "execute_result"
    }
   ],
   "source": [
    "import numpy as np\n",
    "\n",
    "a = np.array([6, 7, 8])\n",
    "\n",
    "a"
   ]
  },
  {
   "cell_type": "code",
   "execution_count": 15,
   "metadata": {},
   "outputs": [
    {
     "data": {
      "text/plain": [
       "numpy.ndarray"
      ]
     },
     "execution_count": 15,
     "metadata": {},
     "output_type": "execute_result"
    }
   ],
   "source": [
    "type(a)"
   ]
  },
  {
   "cell_type": "code",
   "execution_count": 19,
   "metadata": {},
   "outputs": [
    {
     "data": {
      "text/plain": [
       "array([ 0,  1,  2,  3,  4,  5,  6,  7,  8,  9, 10, 11, 12, 13, 14])"
      ]
     },
     "execution_count": 19,
     "metadata": {},
     "output_type": "execute_result"
    }
   ],
   "source": [
    "b = np.arange(15)\n",
    "\n",
    "b"
   ]
  },
  {
   "cell_type": "code",
   "execution_count": 20,
   "metadata": {},
   "outputs": [
    {
     "data": {
      "text/plain": [
       "numpy.ndarray"
      ]
     },
     "execution_count": 20,
     "metadata": {},
     "output_type": "execute_result"
    }
   ],
   "source": [
    "type(b)"
   ]
  },
  {
   "cell_type": "code",
   "execution_count": 21,
   "metadata": {},
   "outputs": [
    {
     "data": {
      "text/plain": [
       "array([[ 0,  1,  2,  3,  4],\n",
       "       [ 5,  6,  7,  8,  9],\n",
       "       [10, 11, 12, 13, 14]])"
      ]
     },
     "execution_count": 21,
     "metadata": {},
     "output_type": "execute_result"
    }
   ],
   "source": [
    "c = np.arange(15).reshape(3, 5)\n",
    "\n",
    "c"
   ]
  },
  {
   "cell_type": "code",
   "execution_count": 22,
   "metadata": {},
   "outputs": [
    {
     "data": {
      "text/plain": [
       "(3, 5)"
      ]
     },
     "execution_count": 22,
     "metadata": {},
     "output_type": "execute_result"
    }
   ],
   "source": [
    "c.shape"
   ]
  },
  {
   "cell_type": "code",
   "execution_count": 23,
   "metadata": {},
   "outputs": [
    {
     "data": {
      "text/plain": [
       "2"
      ]
     },
     "execution_count": 23,
     "metadata": {},
     "output_type": "execute_result"
    }
   ],
   "source": [
    "c.ndim"
   ]
  },
  {
   "cell_type": "code",
   "execution_count": 24,
   "metadata": {},
   "outputs": [
    {
     "data": {
      "text/plain": [
       "'int64'"
      ]
     },
     "execution_count": 24,
     "metadata": {},
     "output_type": "execute_result"
    }
   ],
   "source": [
    "c.dtype.name"
   ]
  },
  {
   "cell_type": "code",
   "execution_count": 25,
   "metadata": {},
   "outputs": [
    {
     "data": {
      "text/plain": [
       "8"
      ]
     },
     "execution_count": 25,
     "metadata": {},
     "output_type": "execute_result"
    }
   ],
   "source": [
    "c.itemsize"
   ]
  },
  {
   "cell_type": "code",
   "execution_count": 26,
   "metadata": {},
   "outputs": [
    {
     "data": {
      "text/plain": [
       "15"
      ]
     },
     "execution_count": 26,
     "metadata": {},
     "output_type": "execute_result"
    }
   ],
   "source": [
    "c.size"
   ]
  },
  {
   "cell_type": "code",
   "execution_count": 27,
   "metadata": {},
   "outputs": [
    {
     "data": {
      "text/plain": [
       "numpy.ndarray"
      ]
     },
     "execution_count": 27,
     "metadata": {},
     "output_type": "execute_result"
    }
   ],
   "source": [
    "type(c)"
   ]
  },
  {
   "cell_type": "code",
   "execution_count": 28,
   "metadata": {},
   "outputs": [
    {
     "name": "stdout",
     "output_type": "stream",
     "text": [
      "Help on built-in function arange in module numpy:\n",
      "\n",
      "arange(...)\n",
      "    arange([start,] stop[, step,], dtype=None, *, device=None, like=None)\n",
      "\n",
      "    Return evenly spaced values within a given interval.\n",
      "\n",
      "    ``arange`` can be called with a varying number of positional arguments:\n",
      "\n",
      "    * ``arange(stop)``: Values are generated within the half-open interval\n",
      "      ``[0, stop)`` (in other words, the interval including `start` but\n",
      "      excluding `stop`).\n",
      "    * ``arange(start, stop)``: Values are generated within the half-open\n",
      "      interval ``[start, stop)``.\n",
      "    * ``arange(start, stop, step)`` Values are generated within the half-open\n",
      "      interval ``[start, stop)``, with spacing between values given by\n",
      "      ``step``.\n",
      "\n",
      "    For integer arguments the function is roughly equivalent to the Python\n",
      "    built-in :py:class:`range`, but returns an ndarray rather than a ``range``\n",
      "    instance.\n",
      "\n",
      "    When using a non-integer step, such as 0.1, it is often better to use\n",
      "    `numpy.linspace`.\n",
      "\n",
      "    See the Warning sections below for more information.\n",
      "\n",
      "    Parameters\n",
      "    ----------\n",
      "    start : integer or real, optional\n",
      "        Start of interval.  The interval includes this value.  The default\n",
      "        start value is 0.\n",
      "    stop : integer or real\n",
      "        End of interval.  The interval does not include this value, except\n",
      "        in some cases where `step` is not an integer and floating point\n",
      "        round-off affects the length of `out`.\n",
      "    step : integer or real, optional\n",
      "        Spacing between values.  For any output `out`, this is the distance\n",
      "        between two adjacent values, ``out[i+1] - out[i]``.  The default\n",
      "        step size is 1.  If `step` is specified as a position argument,\n",
      "        `start` must also be given.\n",
      "    dtype : dtype, optional\n",
      "        The type of the output array.  If `dtype` is not given, infer the data\n",
      "        type from the other input arguments.\n",
      "    device : str, optional\n",
      "        The device on which to place the created array. Default: ``None``.\n",
      "        For Array-API interoperability only, so must be ``\"cpu\"`` if passed.\n",
      "\n",
      "        .. versionadded:: 2.0.0\n",
      "    like : array_like, optional\n",
      "        Reference object to allow the creation of arrays which are not\n",
      "        NumPy arrays. If an array-like passed in as ``like`` supports\n",
      "        the ``__array_function__`` protocol, the result will be defined\n",
      "        by it. In this case, it ensures the creation of an array object\n",
      "        compatible with that passed in via this argument.\n",
      "\n",
      "        .. versionadded:: 1.20.0\n",
      "\n",
      "    Returns\n",
      "    -------\n",
      "    arange : ndarray\n",
      "        Array of evenly spaced values.\n",
      "\n",
      "        For floating point arguments, the length of the result is\n",
      "        ``ceil((stop - start)/step)``.  Because of floating point overflow,\n",
      "        this rule may result in the last element of `out` being greater\n",
      "        than `stop`.\n",
      "\n",
      "    Warnings\n",
      "    --------\n",
      "    The length of the output might not be numerically stable.\n",
      "\n",
      "    Another stability issue is due to the internal implementation of\n",
      "    `numpy.arange`.\n",
      "    The actual step value used to populate the array is\n",
      "    ``dtype(start + step) - dtype(start)`` and not `step`. Precision loss\n",
      "    can occur here, due to casting or due to using floating points when\n",
      "    `start` is much larger than `step`. This can lead to unexpected\n",
      "    behaviour. For example::\n",
      "\n",
      "      >>> np.arange(0, 5, 0.5, dtype=int)\n",
      "      array([0, 0, 0, 0, 0, 0, 0, 0, 0, 0])\n",
      "      >>> np.arange(-3, 3, 0.5, dtype=int)\n",
      "      array([-3, -2, -1,  0,  1,  2,  3,  4,  5,  6,  7,  8])\n",
      "\n",
      "    In such cases, the use of `numpy.linspace` should be preferred.\n",
      "\n",
      "    The built-in :py:class:`range` generates :std:doc:`Python built-in integers\n",
      "    that have arbitrary size <python:c-api/long>`, while `numpy.arange`\n",
      "    produces `numpy.int32` or `numpy.int64` numbers. This may result in\n",
      "    incorrect results for large integer values::\n",
      "\n",
      "      >>> power = 40\n",
      "      >>> modulo = 10000\n",
      "      >>> x1 = [(n ** power) % modulo for n in range(8)]\n",
      "      >>> x2 = [(n ** power) % modulo for n in np.arange(8)]\n",
      "      >>> print(x1)\n",
      "      [0, 1, 7776, 8801, 6176, 625, 6576, 4001]  # correct\n",
      "      >>> print(x2)\n",
      "      [0, 1, 7776, 7185, 0, 5969, 4816, 3361]  # incorrect\n",
      "\n",
      "    See Also\n",
      "    --------\n",
      "    numpy.linspace : Evenly spaced numbers with careful handling of endpoints.\n",
      "    numpy.ogrid: Arrays of evenly spaced numbers in N-dimensions.\n",
      "    numpy.mgrid: Grid-shaped arrays of evenly spaced numbers in N-dimensions.\n",
      "    :ref:`how-to-partition`\n",
      "\n",
      "    Examples\n",
      "    --------\n",
      "    >>> import numpy as np\n",
      "    >>> np.arange(3)\n",
      "    array([0, 1, 2])\n",
      "    >>> np.arange(3.0)\n",
      "    array([ 0.,  1.,  2.])\n",
      "    >>> np.arange(3,7)\n",
      "    array([3, 4, 5, 6])\n",
      "    >>> np.arange(3,7,2)\n",
      "    array([3, 5])\n",
      "\n"
     ]
    }
   ],
   "source": [
    "help(np.arange)"
   ]
  },
  {
   "cell_type": "code",
   "execution_count": 29,
   "metadata": {},
   "outputs": [
    {
     "data": {
      "text/plain": [
       "array([0, 1, 2, 3])"
      ]
     },
     "execution_count": 29,
     "metadata": {},
     "output_type": "execute_result"
    }
   ],
   "source": [
    "np.arange(4)"
   ]
  },
  {
   "cell_type": "code",
   "execution_count": 30,
   "metadata": {},
   "outputs": [
    {
     "data": {
      "text/plain": [
       "array([1, 3, 5, 7, 9])"
      ]
     },
     "execution_count": 30,
     "metadata": {},
     "output_type": "execute_result"
    }
   ],
   "source": [
    "np.arange(1, 10, 2)"
   ]
  },
  {
   "cell_type": "code",
   "execution_count": 33,
   "metadata": {},
   "outputs": [
    {
     "data": {
      "text/plain": [
       "array([0. , 0.2, 0.4, 0.6, 0.8])"
      ]
     },
     "execution_count": 33,
     "metadata": {},
     "output_type": "execute_result"
    }
   ],
   "source": [
    "np.arange(0, 1, 0.2)"
   ]
  },
  {
   "cell_type": "code",
   "execution_count": 32,
   "metadata": {},
   "outputs": [
    {
     "data": {
      "text/plain": [
       "array([0. , 0.4, 0.8, 1.2, 1.6, 2. , 2.4, 2.8, 3.2, 3.6, 4. , 4.4, 4.8,\n",
       "       5.2, 5.6, 6. , 6.4, 6.8, 7.2, 7.6, 8. , 8.4, 8.8, 9.2, 9.6])"
      ]
     },
     "execution_count": 32,
     "metadata": {},
     "output_type": "execute_result"
    }
   ],
   "source": [
    "np.arange(0, 10, .4)"
   ]
  },
  {
   "cell_type": "code",
   "execution_count": 35,
   "metadata": {},
   "outputs": [
    {
     "data": {
      "text/plain": [
       "array([ 0. ,  2.5,  5. ,  7.5, 10. ])"
      ]
     },
     "execution_count": 35,
     "metadata": {},
     "output_type": "execute_result"
    }
   ],
   "source": [
    "np.linspace(0, 10, 5)"
   ]
  },
  {
   "cell_type": "code",
   "execution_count": 36,
   "metadata": {},
   "outputs": [
    {
     "data": {
      "text/plain": [
       "array([ 0.        ,  1.11111111,  2.22222222,  3.33333333,  4.44444444,\n",
       "        5.55555556,  6.66666667,  7.77777778,  8.88888889, 10.        ])"
      ]
     },
     "execution_count": 36,
     "metadata": {},
     "output_type": "execute_result"
    }
   ],
   "source": [
    "np.linspace(0, 10 ,10)"
   ]
  },
  {
   "cell_type": "code",
   "execution_count": 37,
   "metadata": {},
   "outputs": [
    {
     "data": {
      "text/plain": [
       "1.1111111111111112"
      ]
     },
     "execution_count": 37,
     "metadata": {},
     "output_type": "execute_result"
    }
   ],
   "source": [
    "# (stop - start) / (num - 1)\n",
    "(10 - 0) / (10 - 1)"
   ]
  },
  {
   "cell_type": "code",
   "execution_count": 38,
   "metadata": {},
   "outputs": [
    {
     "data": {
      "text/plain": [
       "array([0.  , 1.25, 2.5 , 3.75, 5.  ])"
      ]
     },
     "execution_count": 38,
     "metadata": {},
     "output_type": "execute_result"
    }
   ],
   "source": [
    "np.linspace(0, 5, 5)"
   ]
  },
  {
   "cell_type": "code",
   "execution_count": 39,
   "metadata": {},
   "outputs": [
    {
     "data": {
      "text/plain": [
       "1.25"
      ]
     },
     "execution_count": 39,
     "metadata": {},
     "output_type": "execute_result"
    }
   ],
   "source": [
    "# (stop - start) / (num - 1)\n",
    "(5 - 0) / (5 - 1)"
   ]
  },
  {
   "cell_type": "code",
   "execution_count": null,
   "metadata": {},
   "outputs": [],
   "source": [
    "# %config InlineBaskend.figure_format = 'retina'"
   ]
  },
  {
   "cell_type": "code",
   "execution_count": 42,
   "metadata": {},
   "outputs": [],
   "source": [
    "import matplotlib.pyplot as plt\n",
    "\n",
    "plt.rc('font', family = 'Malgun Gothic')\n",
    "plt.rc('axes', unicode_minus = False)\n"
   ]
  },
  {
   "cell_type": "code",
   "execution_count": 43,
   "metadata": {},
   "outputs": [
    {
     "data": {
      "image/png": "[encoded data removed]",
      "text/plain": [
       "<Figure size 640x480 with 1 Axes>"
      ]
     },
     "metadata": {},
     "output_type": "display_data"
    }
   ],
   "source": [
    "plt.plot([0, 1, 2, 3])\n",
    "plt.show()"
   ]
  },
  {
   "cell_type": "code",
   "execution_count": 45,
   "metadata": {},
   "outputs": [
    {
     "data": {
      "image/png": "[encoded data removed]",
      "text/plain": [
       "<Figure size 640x480 with 1 Axes>"
      ]
     },
     "metadata": {},
     "output_type": "display_data"
    }
   ],
   "source": [
    "plt.plot([10, 20, 30, 40])\n",
    "plt.show()"
   ]
  },
  {
   "cell_type": "code",
   "execution_count": 46,
   "metadata": {},
   "outputs": [
    {
     "data": {
      "image/png": "[encoded data removed]",
      "text/plain": [
       "<Figure size 640x480 with 1 Axes>"
      ]
     },
     "metadata": {},
     "output_type": "display_data"
    }
   ],
   "source": [
    "plt.plot([1, 2, 3, 4], [10, 20, 30, 40])\n",
    "plt.show()"
   ]
  },
  {
   "cell_type": "code",
   "execution_count": 51,
   "metadata": {},
   "outputs": [
    {
     "name": "stdout",
     "output_type": "stream",
     "text": [
      "[-5.  -4.9 -4.8 -4.7 -4.6 -4.5 -4.4 -4.3 -4.2 -4.1 -4.  -3.9 -3.8 -3.7\n",
      " -3.6 -3.5 -3.4 -3.3 -3.2 -3.1 -3.  -2.9 -2.8 -2.7 -2.6 -2.5 -2.4 -2.3\n",
      " -2.2 -2.1 -2.  -1.9 -1.8 -1.7 -1.6 -1.5 -1.4 -1.3 -1.2 -1.1 -1.  -0.9\n",
      " -0.8 -0.7 -0.6 -0.5 -0.4 -0.3 -0.2 -0.1  0.   0.1  0.2  0.3  0.4  0.5\n",
      "  0.6  0.7  0.8  0.9  1.   1.1  1.2  1.3  1.4  1.5  1.6  1.7  1.8  1.9\n",
      "  2.   2.1  2.2  2.3  2.4  2.5  2.6  2.7  2.8  2.9  3.   3.1  3.2  3.3\n",
      "  3.4  3.5  3.6  3.7  3.8  3.9  4.   4.1  4.2  4.3  4.4  4.5  4.6  4.7\n",
      "  4.8  4.9  5. ]\n",
      "[2.500e+01 2.401e+01 2.304e+01 2.209e+01 2.116e+01 2.025e+01 1.936e+01\n",
      " 1.849e+01 1.764e+01 1.681e+01 1.600e+01 1.521e+01 1.444e+01 1.369e+01\n",
      " 1.296e+01 1.225e+01 1.156e+01 1.089e+01 1.024e+01 9.610e+00 9.000e+00\n",
      " 8.410e+00 7.840e+00 7.290e+00 6.760e+00 6.250e+00 5.760e+00 5.290e+00\n",
      " 4.840e+00 4.410e+00 4.000e+00 3.610e+00 3.240e+00 2.890e+00 2.560e+00\n",
      " 2.250e+00 1.960e+00 1.690e+00 1.440e+00 1.210e+00 1.000e+00 8.100e-01\n",
      " 6.400e-01 4.900e-01 3.600e-01 2.500e-01 1.600e-01 9.000e-02 4.000e-02\n",
      " 1.000e-02 0.000e+00 1.000e-02 4.000e-02 9.000e-02 1.600e-01 2.500e-01\n",
      " 3.600e-01 4.900e-01 6.400e-01 8.100e-01 1.000e+00 1.210e+00 1.440e+00\n",
      " 1.690e+00 1.960e+00 2.250e+00 2.560e+00 2.890e+00 3.240e+00 3.610e+00\n",
      " 4.000e+00 4.410e+00 4.840e+00 5.290e+00 5.760e+00 6.250e+00 6.760e+00\n",
      " 7.290e+00 7.840e+00 8.410e+00 9.000e+00 9.610e+00 1.024e+01 1.089e+01\n",
      " 1.156e+01 1.225e+01 1.296e+01 1.369e+01 1.444e+01 1.521e+01 1.600e+01\n",
      " 1.681e+01 1.764e+01 1.849e+01 1.936e+01 2.025e+01 2.116e+01 2.209e+01\n",
      " 2.304e+01 2.401e+01 2.500e+01]\n"
     ]
    },
    {
     "data": {
      "image/png": "[encoded data removed]",
      "text/plain": [
       "<Figure size 640x480 with 1 Axes>"
      ]
     },
     "metadata": {},
     "output_type": "display_data"
    }
   ],
   "source": [
    "x = np.linspace(-5, 5, 101)\n",
    "print(x)\n",
    "print(x**2)\n",
    "\n",
    "plt.plot(x, x**2)\n",
    "plt.show()"
   ]
  },
  {
   "cell_type": "code",
   "execution_count": 55,
   "metadata": {},
   "outputs": [
    {
     "data": {
      "image/png": "[encoded data removed]",
      "text/plain": [
       "<Figure size 640x480 with 1 Axes>"
      ]
     },
     "metadata": {},
     "output_type": "display_data"
    }
   ],
   "source": [
    "x = np.linspace(-5, 5, 101)\n",
    "\n",
    "plt.title('sin cos graph')\n",
    "plt.plot(x, np.sin(x), x, np.cos(x))\n",
    "plt.show()"
   ]
  },
  {
   "cell_type": "code",
   "execution_count": null,
   "metadata": {},
   "outputs": [],
   "source": []
  }
 ],
 "metadata": {
  "kernelspec": {
   "display_name": "dmu",
   "language": "python",
   "name": "python3"
  },
  "language_info": {
   "codemirror_mode": {
    "name": "ipython",
    "version": 3
   },
   "file_extension": ".py",
   "mimetype": "text/x-python",
   "name": "python",
   "nbconvert_exporter": "python",
   "pygments_lexer": "ipython3",
   "version": "3.12.5"
  }
 },
 "nbformat": 4,
 "nbformat_minor": 2
}
